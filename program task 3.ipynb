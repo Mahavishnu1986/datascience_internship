{
 "cells": [
  {
   "cell_type": "markdown",
   "id": "f8f3a7e0",
   "metadata": {},
   "source": [
    "## Fina Angle MBC"
   ]
  },
  {
   "cell_type": "code",
   "execution_count": 2,
   "id": "1c93b0a1",
   "metadata": {},
   "outputs": [
    {
     "name": "stdout",
     "output_type": "stream",
     "text": [
      "10\n",
      "10\n",
      "45°\n"
     ]
    }
   ],
   "source": [
    "import math\n",
    "\n",
    "# taking the input from user\n",
    "ab = float(input())\n",
    "bc = float(input())\n",
    "\n",
    "# finding the distance \n",
    "ac = math.sqrt((ab*ab)+(bc*bc))\n",
    "bm = ac / 2.0\n",
    "mc = bm\n",
    "\n",
    "# equalizing the sides \n",
    "b = mc\n",
    "c = bm\n",
    "a = bc\n",
    "\n",
    "# where b=c\n",
    "# finding the angle in radian\n",
    "angel_b_radian = math.acos(a / (2*b))\n",
    "\n",
    "# converting the radian to degree\n",
    "angel_b_degree = int(round((180 * angel_b_radian) / math.pi))\n",
    "\n",
    "# printing with degree\n",
    "print(angel_b_degree,'\\u00B0',sep='')\n"
   ]
  },
  {
   "cell_type": "markdown",
   "id": "ab2bb0db",
   "metadata": {},
   "source": [
    "\n",
    "## task is to print a palindromic triangle of size ."
   ]
  },
  {
   "cell_type": "code",
   "execution_count": null,
   "id": "f4cd2104",
   "metadata": {},
   "outputs": [],
   "source": [
    "for i in range(1, int(input()) + 1): \n",
    "    \n",
    "    # printing the triangle of the number\n",
    "    print((10 ** i - 1) ** 2 // 81)\n",
    "\n",
    "    "
   ]
  },
  {
   "cell_type": "markdown",
   "id": "9d2bf1b9",
   "metadata": {},
   "source": [
    "\n",
    "## Read in two integers,  and , and print three lines.\n",
    "The first line is the integer division  (While using Python2 remember to import division from __future__).\n",
    "The second line is the result of the modulo operator: .\n",
    "The third line prints the divmod of  and ."
   ]
  },
  {
   "cell_type": "code",
   "execution_count": 1,
   "id": "8e29c818",
   "metadata": {},
   "outputs": [
    {
     "name": "stdout",
     "output_type": "stream",
     "text": [
      "2\n",
      "2\n",
      "1\n",
      "0\n",
      "(1, 0)\n"
     ]
    }
   ],
   "source": [
    "from __future__ import division\n",
    "a=int(input())\n",
    "b=int(input())\n",
    "\n",
    "print(int(a/b))\n",
    "print(a%b)\n",
    "result=divmod(a,b)\n",
    "\n",
    "print(result)\n"
   ]
  },
  {
   "cell_type": "markdown",
   "id": "1f154a7c",
   "metadata": {},
   "source": [
    "## Mod of Power\n",
    "\n",
    "You are given three integers: , , and . Print two lines.\n",
    "On the first line, print the result of pow(a,b). On the second line, print the result of pow(a,b,m)"
   ]
  },
  {
   "cell_type": "code",
   "execution_count": 2,
   "id": "302ad49f",
   "metadata": {},
   "outputs": [
    {
     "name": "stdout",
     "output_type": "stream",
     "text": [
      "2\n",
      "3\n",
      "1\n",
      "8\n",
      "0\n"
     ]
    }
   ],
   "source": [
    "a=int(input())\n",
    "b=int(input())\n",
    "m=int(input())\n",
    "\n",
    "\n",
    "res=pow(a,b)\n",
    "print(res)\n",
    "res1=pow(a,b,m)\n",
    "print(res1)"
   ]
  },
  {
   "cell_type": "markdown",
   "id": "1ccbe796",
   "metadata": {},
   "source": [
    "\n",
    "#### Integers in Python can be as big as the bytes in your machine's memory. There is no limit in size as there is:  (c++ int) or  (C++ long long int)."
   ]
  },
  {
   "cell_type": "code",
   "execution_count": null,
   "id": "01c6a7d3",
   "metadata": {},
   "outputs": [],
   "source": [
    "A = int(input())\n",
    "B = int(input())\n",
    "C = int(input())\n",
    "D = int(input())\n",
    "\n",
    "print((A**B)+(C**D))\n"
   ]
  },
  {
   "cell_type": "markdown",
   "id": "88a30618",
   "metadata": {},
   "source": [
    "### Print the triangle using loop"
   ]
  },
  {
   "cell_type": "code",
   "execution_count": 7,
   "id": "e98ce4a7",
   "metadata": {},
   "outputs": [
    {
     "name": "stdout",
     "output_type": "stream",
     "text": [
      "3\n",
      "1\n",
      "22\n"
     ]
    }
   ],
   "source": [
    "n=int(input())\n",
    "\n",
    "for i in range(1,n):\n",
    "    \n",
    "    print(i*((10**i-1)//9))\n",
    "    \n"
   ]
  },
  {
   "cell_type": "code",
   "execution_count": null,
   "id": "a3539d2f",
   "metadata": {},
   "outputs": [],
   "source": []
  },
  {
   "cell_type": "code",
   "execution_count": null,
   "id": "1e93d15c",
   "metadata": {},
   "outputs": [],
   "source": []
  },
  {
   "cell_type": "code",
   "execution_count": null,
   "id": "a74d2126",
   "metadata": {},
   "outputs": [],
   "source": []
  }
 ],
 "metadata": {
  "kernelspec": {
   "display_name": "Python 3 (ipykernel)",
   "language": "python",
   "name": "python3"
  },
  "language_info": {
   "codemirror_mode": {
    "name": "ipython",
    "version": 3
   },
   "file_extension": ".py",
   "mimetype": "text/x-python",
   "name": "python",
   "nbconvert_exporter": "python",
   "pygments_lexer": "ipython3",
   "version": "3.9.12"
  }
 },
 "nbformat": 4,
 "nbformat_minor": 5
}
